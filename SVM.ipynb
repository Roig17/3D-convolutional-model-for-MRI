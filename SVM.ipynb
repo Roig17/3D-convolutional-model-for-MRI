{
 "cells": [
  {
   "cell_type": "code",
   "execution_count": null,
   "metadata": {},
   "outputs": [],
   "source": [
    "\"\"\"\n",
    "Este codigo implementa un modelo de SVM sobre datos de resonancia magnetica sobre los que previamente se utilizo\n",
    "data augmentation\n",
    "\n",
    "This code implements a SVM model in magnetic resonance data which were previosly augmented\n",
    "\"\"\""
   ]
  },
  {
   "cell_type": "code",
   "execution_count": null,
   "metadata": {},
   "outputs": [],
   "source": [
    "\"\"\"\n",
    "Importar dependencias\n",
    "Import dependencies\n",
    "\"\"\"\n",
    "\n",
    "import pandas as pd\n",
    "import numpy as np\n",
    "import matplotlib.pyplot as plt\n",
    "from sklearn.model_selection import train_test_split\n",
    "from sklearn.svm import SVC\n",
    "from sklearn.metrics import classification_report\n",
    "from joblib import dump, load"
   ]
  },
  {
   "cell_type": "code",
   "execution_count": null,
   "metadata": {},
   "outputs": [],
   "source": [
    "\"\"\"\n",
    "Para agilizar la carga de las imagenes estas fueron convertidas previamente en arrays de numpy\n",
    "(tamaño del set x alto x ancho x largo)\n",
    "To make loading the images easier, these where previosly converted into numpy arrays of size \n",
    "(size of the set x hight x width x depth)\n",
    "\"\"\""
   ]
  },
  {
   "cell_type": "code",
   "execution_count": null,
   "metadata": {},
   "outputs": [],
   "source": [
    "\"\"\"\n",
    "Cargar los sets de entrenamiento, validacion y test\n",
    "Load training, validation and test sets\n",
    "\"\"\"\n",
    "\n",
    "x_train = np.load(\"x_train.npy\")\n",
    "y_train = np.load(\"y_train.npy\")\n",
    "\n",
    "x_val = np.load(\"x_val.npy\")\n",
    "y_val = np.load(\"y_val.npy\")\n",
    "\n",
    "x_test = np.load(\"x_test.npy\")\n",
    "y_test = np.load(\"y_test.npy\")"
   ]
  },
  {
   "cell_type": "code",
   "execution_count": null,
   "metadata": {},
   "outputs": [],
   "source": [
    "\"\"\"\n",
    "Modificar dimensiones para le input\n",
    "Modify dimensions for input\n",
    "\"\"\"\n",
    "#SVM que cada input tenga una forma vectorial, para ello reshape(tamaño del set, alto*ancho*largo)\n",
    "#SVM requieres that each input have vectorial size, in order to do it resahpe(size of the set, hight*width*depth)\n",
    "\n",
    "x_train_flatten = x_train.reshape(1911, 1100385)\n",
    "x_val_flatten = x_val.reshape(13, 1100385)\n",
    "x_test_flatten = x_test.reshape(10, 1100385)"
   ]
  },
  {
   "cell_type": "code",
   "execution_count": null,
   "metadata": {},
   "outputs": [],
   "source": [
    "# Entrenar el modelo\n",
    "# Train the SVM algorithim\n",
    "\n",
    "svcclasifier = SVC(kernel=\"linear\")\n",
    "\n",
    "svcclasifier.fit(x_train_flatten, y_train)"
   ]
  },
  {
   "cell_type": "code",
   "execution_count": null,
   "metadata": {},
   "outputs": [],
   "source": [
    "# Predicciones en la validacion\n",
    "# Prediction for validation\n",
    "y_pred = svcclasifier.predict(x_val_flatten)\n",
    "print(y_pred)"
   ]
  },
  {
   "cell_type": "code",
   "execution_count": null,
   "metadata": {},
   "outputs": [],
   "source": [
    "#Comprobar los valores de precision en la validacion\n",
    "#Check accuracy values in validation\n",
    "print(classification_report(y_val, y_pred))"
   ]
  },
  {
   "cell_type": "code",
   "execution_count": null,
   "metadata": {},
   "outputs": [],
   "source": [
    "\"\"\"\n",
    "Modificar los hiperparametros (argumentos de la funcion SVC) del SVM y reentrenarlo hasta obtener resultados satisfactorios\n",
    "Modify hiperpatameters (arguments of the SVC function) of the SVM and retrain until you get satisfactory results\n",
    "\"\"\""
   ]
  },
  {
   "cell_type": "code",
   "execution_count": null,
   "metadata": {},
   "outputs": [],
   "source": [
    "#Predicciones para el test set\n",
    "#Predictions for test set\n",
    "y_test_pred = svcclasifier.predict(x_test_flatten)\n",
    "print(y_test_pred)"
   ]
  },
  {
   "cell_type": "code",
   "execution_count": null,
   "metadata": {
    "scrolled": true
   },
   "outputs": [],
   "source": [
    "#Comprobar los valores de precision en el test set\n",
    "#Check accuracy values in the test set\n",
    "print(classification_report(y_test, y_test_pred))"
   ]
  },
  {
   "cell_type": "code",
   "execution_count": null,
   "metadata": {},
   "outputs": [],
   "source": [
    "#Guardar el modelo\n",
    "#Save the model\n",
    "dump(svcclasifier, 'AugSVMmodel.joblib') "
   ]
  }
 ],
 "metadata": {
  "kernelspec": {
   "display_name": "Python 3",
   "language": "python",
   "name": "python3"
  },
  "language_info": {
   "codemirror_mode": {
    "name": "ipython",
    "version": 3
   },
   "file_extension": ".py",
   "mimetype": "text/x-python",
   "name": "python",
   "nbconvert_exporter": "python",
   "pygments_lexer": "ipython3",
   "version": "3.8.3"
  }
 },
 "nbformat": 4,
 "nbformat_minor": 5
}
